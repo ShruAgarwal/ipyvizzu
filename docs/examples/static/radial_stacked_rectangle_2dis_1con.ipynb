{
 "cells": [
  {
   "cell_type": "markdown",
   "id": "ee54cf4b",
   "metadata": {},
   "source": [
    "Note: The data used in this example is available [here](https://github.com/vizzuhq/ipyvizzu/tree/gh-pages/docs/data). You can read more about the available types of data in the [Adding data](../../tutorial/data.ipynb) chapter."
   ]
  },
  {
   "cell_type": "code",
   "execution_count": null,
   "id": "a2806e23",
   "metadata": {},
   "outputs": [],
   "source": [
    "import pandas as pd\n",
    "from ipyvizzu import Chart, Data, Config, Style\n",
    "\n",
    "data_frame = pd.read_csv(\"../../data/chart_types_eu.csv\", dtype={\"Year\": str})\n",
    "data = Data()\n",
    "data.add_data_frame(data_frame)\n",
    "\n",
    "chart = Chart()\n",
    "chart.animate(data)\n",
    "\n",
    "chart.animate(\n",
    "    Config(\n",
    "        {\n",
    "            \"channels\": {\n",
    "                \"x\": {\"set\": [\"Country\", \"Value 2 (+)\"]},\n",
    "                \"y\": {\"set\": [\"Year\"], \"range\": {\"min\": \"-20%\"}},\n",
    "                \"color\": {\"set\": [\"Country\"]},\n",
    "                \"lightness\": {\"set\": [\"Year\"]},\n",
    "            },\n",
    "            \"title\": \"Stacked Radial Bar Chart\",\n",
    "            \"coordSystem\": \"polar\",\n",
    "        }\n",
    "    ),\n",
    "    Style(\n",
    "        {\n",
    "            \"plot\": {\n",
    "                \"yAxis\": {\"color\": \"#ffffff00\", \"label\": {\"fontSize\": 8}},\n",
    "                \"xAxis\": {\n",
    "                    \"title\": {\"color\": \"#ffffff00\"},\n",
    "                    \"label\": {\"color\": \"#ffffff00\"},\n",
    "                    \"interlacing\": {\"color\": \"#ffffff00\"},\n",
    "                },\n",
    "            }\n",
    "        }\n",
    "    ),\n",
    ")"
   ]
  },
  {
   "cell_type": "markdown",
   "id": "b87315e4",
   "metadata": {},
   "source": [
    "Back to the [Examples](../examples.ipynb) ----- Back to the [Table of contents](../../index.ipynb#tutorial)"
   ]
  }
 ],
 "metadata": {
  "kernelspec": {
   "display_name": ".venv",
   "language": "python",
   "name": ".venv"
  },
  "title": "ipyvizzu - Example"
 },
 "nbformat": 4,
 "nbformat_minor": 5
}

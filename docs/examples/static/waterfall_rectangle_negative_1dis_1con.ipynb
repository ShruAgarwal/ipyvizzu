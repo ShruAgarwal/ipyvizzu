{
 "cells": [
  {
   "cell_type": "markdown",
   "id": "fd6ee722",
   "metadata": {},
   "source": [
    "Note: The data used in this example is available [here](https://github.com/vizzuhq/ipyvizzu/tree/gh-pages/docs/data). You can read more about the available types of data in the [Adding data](../../tutorial/data.ipynb) chapter."
   ]
  },
  {
   "cell_type": "code",
   "execution_count": null,
   "id": "ffb43a89",
   "metadata": {},
   "outputs": [],
   "source": [
    "import pandas as pd\n",
    "from ipyvizzu import Chart, Data, Config, Style\n",
    "\n",
    "data_frame = pd.read_csv(\"../../data/chart_types_eu.csv\", dtype={\"Year\": str})\n",
    "data = Data()\n",
    "data.add_data_frame(data_frame)\n",
    "\n",
    "chart = Chart()\n",
    "chart.animate(data)\n",
    "\n",
    "chart.animate(\n",
    "    Config(\n",
    "        {\n",
    "            \"channels\": {\n",
    "                \"x\": {\"set\": [\"Year\"]},\n",
    "                \"y\": {\"set\": [\"Year\", \"Value 5 (+/-)\"]},\n",
    "                \"label\": {\"set\": [\"Value 5 (+/-)\"]},\n",
    "            },\n",
    "            \"title\": \"Waterfall Chart\",\n",
    "            \"legend\": None,\n",
    "        }\n",
    "    ),\n",
    "    Style({\"plot\": {\"marker\": {\"label\": {\"position\": \"top\"}}}}),\n",
    ")"
   ]
  },
  {
   "cell_type": "markdown",
   "id": "be125750",
   "metadata": {},
   "source": [
    "Back to the [Examples](../examples.ipynb) ----- Back to the [Table of contents](../../index.ipynb#tutorial)"
   ]
  }
 ],
 "metadata": {
  "kernelspec": {
   "display_name": ".venv",
   "language": "python",
   "name": ".venv"
  },
  "title": "ipyvizzu - Example"
 },
 "nbformat": 4,
 "nbformat_minor": 5
}

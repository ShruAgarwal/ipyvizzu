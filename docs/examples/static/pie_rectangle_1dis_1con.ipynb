{
 "cells": [
  {
   "cell_type": "markdown",
   "id": "984b581f",
   "metadata": {},
   "source": [
    "Note: The data used in this example is available [here](https://github.com/vizzuhq/ipyvizzu/tree/gh-pages/docs/data). You can read more about the available types of data in the [Adding data](../../tutorial/data.ipynb) chapter."
   ]
  },
  {
   "cell_type": "code",
   "execution_count": null,
   "id": "77104354",
   "metadata": {},
   "outputs": [],
   "source": [
    "import pandas as pd\n",
    "from ipyvizzu import Chart, Data, Config, Style\n",
    "\n",
    "data_frame = pd.read_csv(\"../../data/chart_types_eu.csv\", dtype={\"Year\": str})\n",
    "data = Data()\n",
    "data.add_data_frame(data_frame)\n",
    "\n",
    "chart = Chart()\n",
    "chart.animate(data)\n",
    "\n",
    "chart.animate(\n",
    "    Config(\n",
    "        {\n",
    "            \"channels\": {\n",
    "                \"x\": {\"set\": [\"Joy factors\", \"Value 2 (+)\"]},\n",
    "                \"color\": {\"set\": [\"Joy factors\"]},\n",
    "                \"label\": {\"set\": [\"Value 2 (+)\"]},\n",
    "            },\n",
    "            \"title\": \"Pie Chart\",\n",
    "            \"coordSystem\": \"polar\",\n",
    "        }\n",
    "    ),\n",
    "    Style(\n",
    "        {\n",
    "            \"plot\": {\n",
    "                \"marker\": {\"label\": {\"fontSize\": 14, \"position\": \"center\"}},\n",
    "                \"xAxis\": {\n",
    "                    \"title\": {\"color\": \"#ffffff00\"},\n",
    "                    \"label\": {\"color\": \"#ffffff00\"},\n",
    "                },\n",
    "                \"yAxis\": {\n",
    "                    \"color\": \"#ffffff00\",\n",
    "                    \"title\": {\"color\": \"#ffffff00\"},\n",
    "                    \"label\": {\"color\": \"#ffffff00\"},\n",
    "                },\n",
    "            }\n",
    "        }\n",
    "    ),\n",
    ")"
   ]
  },
  {
   "cell_type": "markdown",
   "id": "a3c243bf",
   "metadata": {},
   "source": [
    "Back to the [Examples](../examples.ipynb) ----- Back to the [Table of contents](../../index.ipynb#tutorial)"
   ]
  }
 ],
 "metadata": {
  "kernelspec": {
   "display_name": ".venv",
   "language": "python",
   "name": ".venv"
  },
  "title": "ipyvizzu - Example"
 },
 "nbformat": 4,
 "nbformat_minor": 5
}

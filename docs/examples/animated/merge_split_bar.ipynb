{
 "cells": [
  {
   "cell_type": "markdown",
   "id": "90ad3ece",
   "metadata": {},
   "source": [
    "Note: The data used in this example is available [here](https://github.com/vizzuhq/ipyvizzu/tree/gh-pages/docs/data). You can read more about the available types of data in the [Adding data](../../tutorial/data.ipynb) chapter."
   ]
  },
  {
   "cell_type": "code",
   "execution_count": null,
   "id": "58c56969",
   "metadata": {},
   "outputs": [],
   "source": [
    "import pandas as pd\n",
    "from ipyvizzu import Chart, Data, Config, Style\n",
    "\n",
    "data_frame = pd.read_csv(\"../../data/chart_types_eu.csv\", dtype={\"Year\": str})\n",
    "data = Data()\n",
    "data.add_data_frame(data_frame)\n",
    "\n",
    "chart = Chart()\n",
    "chart.animate(data)\n",
    "\n",
    "chart.animate(\n",
    "    data.filter(\n",
    "        \"\"\"\n",
    "  [ 'AT', 'BE', 'DE', 'DK', 'ES' ]\n",
    "  .includes(record.Country_code)\n",
    "  \"\"\"\n",
    "    ),\n",
    "    Config(\n",
    "        {\n",
    "            \"channels\": {\n",
    "                \"x\": {\"set\": [\"Value 3 (+)\", \"Country\"]},\n",
    "                \"y\": {\"set\": [\"Year\", \"Joy factors\"]},\n",
    "                \"color\": {\"set\": [\"Country\"]},\n",
    "            },\n",
    "            \"title\": \"Stacked Bar Chart\",\n",
    "        }\n",
    "    ),\n",
    ")"
   ]
  },
  {
   "cell_type": "code",
   "execution_count": null,
   "id": "9761151c",
   "metadata": {},
   "outputs": [],
   "source": [
    "chart.animate(Config({\"title\": \"Trellis Bar Chart\", \"split\": True}))"
   ]
  },
  {
   "cell_type": "markdown",
   "id": "73bb3ee6",
   "metadata": {},
   "source": [
    "Back to the [Examples](../examples.ipynb) ----- Back to the [Table of contents](../../index.ipynb#tutorial)"
   ]
  }
 ],
 "metadata": {
  "kernelspec": {
   "display_name": ".venv",
   "language": "python",
   "name": ".venv"
  },
  "title": "ipyvizzu - Example"
 },
 "nbformat": 4,
 "nbformat_minor": 5
}

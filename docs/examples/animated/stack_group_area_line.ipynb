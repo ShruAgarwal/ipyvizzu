{
 "cells": [
  {
   "cell_type": "markdown",
   "id": "0f31fa95",
   "metadata": {},
   "source": [
    "Note: The data used in this example is available [here](https://github.com/vizzuhq/ipyvizzu/tree/gh-pages/docs/data). You can read more about the available types of data in the [Adding data](../../tutorial/data.ipynb) chapter."
   ]
  },
  {
   "cell_type": "code",
   "execution_count": null,
   "id": "9dce90a6",
   "metadata": {},
   "outputs": [],
   "source": [
    "import pandas as pd\n",
    "from ipyvizzu import Chart, Data, Config, Style\n",
    "\n",
    "data_frame = pd.read_csv(\"../../data/tutorial.csv\", dtype={\"Year\": str})\n",
    "data = Data()\n",
    "data.add_data_frame(data_frame)\n",
    "\n",
    "chart = Chart()\n",
    "chart.animate(data)\n",
    "\n",
    "chart.animate(\n",
    "    Config(\n",
    "        {\n",
    "            \"channels\": {\n",
    "                \"x\": {\"set\": [\"Timeseries\"]},\n",
    "                \"y\": {\"set\": [\"Values 1\", \"Categ. Parent\"], \"range\": {\"max\": \"400\"}},\n",
    "                \"label\": {\"set\": [\"Values 1\"]},\n",
    "                \"color\": {\"set\": [\"Categ. Parent\"]},\n",
    "            },\n",
    "            \"title\": \"Stacked Area Chart\",\n",
    "            \"geometry\": \"area\",\n",
    "        }\n",
    "    )\n",
    ")"
   ]
  },
  {
   "cell_type": "code",
   "execution_count": null,
   "id": "cdbf885a",
   "metadata": {},
   "outputs": [],
   "source": [
    "chart.animate(\n",
    "    Config(\n",
    "        {\n",
    "            \"channels\": {\"y\": {\"set\": [\"Values 1\"]}},\n",
    "            \"title\": \"Line Chart\",\n",
    "            \"geometry\": \"line\",\n",
    "        }\n",
    "    )\n",
    ")"
   ]
  },
  {
   "cell_type": "code",
   "execution_count": null,
   "id": "934fdb8f",
   "metadata": {},
   "outputs": [],
   "source": [
    "chart.animate(Config({\"channels\": {\"y\": {\"range\": {\"max\": \"auto\"}}}}))"
   ]
  },
  {
   "cell_type": "markdown",
   "id": "60ee7a48",
   "metadata": {},
   "source": [
    "Back to the [Examples](../examples.ipynb) ----- Back to the [Table of contents](../../index.ipynb#tutorial)"
   ]
  }
 ],
 "metadata": {
  "kernelspec": {
   "display_name": ".venv",
   "language": "python",
   "name": ".venv"
  },
  "title": "ipyvizzu - Example"
 },
 "nbformat": 4,
 "nbformat_minor": 5
}

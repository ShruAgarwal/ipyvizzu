{
 "cells": [
  {
   "cell_type": "markdown",
   "id": "da89ad00",
   "metadata": {},
   "source": [
    "Note: The data used in this example is available [here](https://github.com/vizzuhq/ipyvizzu/tree/gh-pages/docs/data). You can read more about the available types of data in the [Adding data](../../tutorial/data.ipynb) chapter."
   ]
  },
  {
   "cell_type": "code",
   "execution_count": null,
   "id": "5beb14ff",
   "metadata": {},
   "outputs": [],
   "source": [
    "import pandas as pd\n",
    "from ipyvizzu import Chart, Data, Config, Style\n",
    "\n",
    "data_frame = pd.read_csv(\"../../data/chart_types_eu.csv\", dtype={\"Year\": str})\n",
    "data = Data()\n",
    "data.add_data_frame(data_frame)\n",
    "\n",
    "chart = Chart()\n",
    "chart.animate(data)\n",
    "\n",
    "chart.animate(\n",
    "    Config(\n",
    "        {\n",
    "            \"channels\": {\n",
    "                \"y\": {\"set\": [\"Value 2 (+)\"]},\n",
    "                \"x\": {\"set\": [\"Year\"]},\n",
    "                \"color\": {\"attach\": [\"Joy factors\"]},\n",
    "            },\n",
    "            \"title\": \"Line Chart\",\n",
    "            \"geometry\": \"line\",\n",
    "        }\n",
    "    )\n",
    ")"
   ]
  },
  {
   "cell_type": "code",
   "execution_count": null,
   "id": "f291898e",
   "metadata": {},
   "outputs": [],
   "source": [
    "chart.animate(\n",
    "    Config(\n",
    "        {\n",
    "            \"channels\": {\n",
    "                \"y\": {\"set\": [\"Joy factors\"]},\n",
    "                \"x\": {\"set\": [\"Value 2 (+)\", \"Year\"]},\n",
    "            },\n",
    "            \"title\": \"Bar Chart\",\n",
    "            \"geometry\": \"rectangle\",\n",
    "            \"sort\": \"byValue\",\n",
    "        }\n",
    "    )\n",
    ")"
   ]
  },
  {
   "cell_type": "code",
   "execution_count": null,
   "id": "4b8978d3",
   "metadata": {},
   "outputs": [],
   "source": [
    "chart.animate(\n",
    "    Config({\"channels\": {\"x\": {\"detach\": [\"Year\"]}, \"label\": {\"set\": [\"Value 2 (+)\"]}}})\n",
    ")"
   ]
  },
  {
   "cell_type": "markdown",
   "id": "4a7599aa",
   "metadata": {},
   "source": [
    "Back to the [Examples](../examples.ipynb) ----- Back to the [Table of contents](../../index.ipynb#tutorial)"
   ]
  }
 ],
 "metadata": {
  "kernelspec": {
   "display_name": ".venv",
   "language": "python",
   "name": ".venv"
  },
  "title": "ipyvizzu - Example"
 },
 "nbformat": 4,
 "nbformat_minor": 5
}

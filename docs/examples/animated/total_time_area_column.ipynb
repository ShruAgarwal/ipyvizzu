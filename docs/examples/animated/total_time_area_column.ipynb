{
 "cells": [
  {
   "cell_type": "markdown",
   "id": "8756e254",
   "metadata": {},
   "source": [
    "Note: The data used in this example is available [here](https://github.com/vizzuhq/ipyvizzu/tree/gh-pages/docs/data). You can read more about the available types of data in the [Adding data](../../tutorial/data.ipynb) chapter."
   ]
  },
  {
   "cell_type": "code",
   "execution_count": null,
   "id": "7dadabee",
   "metadata": {},
   "outputs": [],
   "source": [
    "import pandas as pd\n",
    "from ipyvizzu import Chart, Data, Config, Style\n",
    "\n",
    "data_frame = pd.read_csv(\"../../data/chart_types_eu.csv\", dtype={\"Year\": str})\n",
    "data = Data()\n",
    "data.add_data_frame(data_frame)\n",
    "\n",
    "chart = Chart()\n",
    "chart.animate(data)\n",
    "\n",
    "chart.animate(\n",
    "    Config(\n",
    "        {\n",
    "            \"channels\": {\n",
    "                \"y\": {\"set\": [\"Joy factors\", \"Value 2 (+)\"]},\n",
    "                \"x\": {\"set\": [\"Year\"]},\n",
    "                \"color\": {\"set\": [\"Joy factors\"]},\n",
    "            },\n",
    "            \"title\": \"Stacked Area Chart\",\n",
    "            \"geometry\": \"area\",\n",
    "        }\n",
    "    )\n",
    ")"
   ]
  },
  {
   "cell_type": "code",
   "execution_count": null,
   "id": "faf59947",
   "metadata": {},
   "outputs": [],
   "source": [
    "chart.animate(Config({\"split\": True, \"title\": \"Trellis Area Chart\"}))"
   ]
  },
  {
   "cell_type": "code",
   "execution_count": null,
   "id": "3685355a",
   "metadata": {},
   "outputs": [],
   "source": [
    "chart.animate(\n",
    "    Config(\n",
    "        {\n",
    "            \"channels\": {\n",
    "                \"y\": {\"set\": [\"Value 2 (+)\", \"Year\"]},\n",
    "                \"x\": {\"set\": [\"Joy factors\"]},\n",
    "            },\n",
    "            \"title\": \"Column Chart\",\n",
    "            \"geometry\": \"rectangle\",\n",
    "            \"split\": False,\n",
    "        }\n",
    "    ),\n",
    "    geometry={\"delay\": 0.43, \"duration\": 1},\n",
    "    y={\"delay\": 1, \"duration\": 2},\n",
    "    x={\"delay\": 0, \"duration\": 1},\n",
    ")"
   ]
  },
  {
   "cell_type": "code",
   "execution_count": null,
   "id": "1b69c606",
   "metadata": {},
   "outputs": [],
   "source": [
    "chart.animate(\n",
    "    Config({\"channels\": {\"y\": {\"detach\": [\"Year\"]}, \"label\": {\"set\": [\"Value 2 (+)\"]}}})\n",
    ")"
   ]
  },
  {
   "cell_type": "markdown",
   "id": "4bdd6f76",
   "metadata": {},
   "source": [
    "Back to the [Examples](../examples.ipynb) ----- Back to the [Table of contents](../../index.ipynb#tutorial)"
   ]
  }
 ],
 "metadata": {
  "kernelspec": {
   "display_name": ".venv",
   "language": "python",
   "name": ".venv"
  },
  "title": "ipyvizzu - Example"
 },
 "nbformat": 4,
 "nbformat_minor": 5
}
